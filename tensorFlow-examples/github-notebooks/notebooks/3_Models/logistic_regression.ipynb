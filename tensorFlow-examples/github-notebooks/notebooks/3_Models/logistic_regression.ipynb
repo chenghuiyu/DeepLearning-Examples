{
 "cells": [
  {
   "cell_type": "markdown",
   "metadata": {},
   "source": [
    "# Logistic Regression Model"
   ]
  },
  {
   "cell_type": "code",
   "execution_count": 29,
   "metadata": {},
   "outputs": [],
   "source": [
    "import tensorflow as tf\n",
    "import numpy as np\n",
    "import matplotlib.pyplot as plt"
   ]
  },
  {
   "cell_type": "code",
   "execution_count": 30,
   "metadata": {},
   "outputs": [],
   "source": [
    "# define Hyperparameters\n",
    "learning_rate = 0.01\n",
    "training_epoches = 25\n",
    "batch_size = 100\n",
    "display_step = 1\n",
    "steps = 100"
   ]
  },
  {
   "cell_type": "code",
   "execution_count": 31,
   "metadata": {},
   "outputs": [],
   "source": [
    "# tf input graph\n",
    "x = tf.placeholder(tf.float32, shape=[None, 784], name = 'x') # miniet data shape is 784\n",
    "y = tf.placeholder(tf.float32, shape=[None, 10], name = 'y') # 0-9 digits recognition => 10 classes\n",
    "\n",
    "# set weight and bais valus\n",
    "W = tf.Variable(tf.zeros([784, 10]))\n",
    "b = tf.Variable(tf.zeros([10]))\n",
    "\n",
    "# start to contruct y = WT * x + b\n",
    "pred = tf.sigmoid(tf.matmul(x, W) + b)\n",
    "# compute cost\n",
    "cost = tf.reduce_mean(-tf.reduce_sum((y*tf.log(pred) + (1-y)*tf.log(1-pred)), reduction_indices=1))\n",
    "# minimize the cost\n",
    "optimizer = tf.train.GradientDescentOptimizer(learning_rate).minimize(cost)\n",
    "\n",
    "# initialize the variables\n",
    "init = tf.global_variables_initializer()"
   ]
  },
  {
   "cell_type": "markdown",
   "metadata": {},
   "source": [
    "# There is another implement about logistic regression\n",
    "\n",
    "in this example, we will use TensorBoard to show how this implement is working\n"
   ]
  },
  {
   "cell_type": "code",
   "execution_count": 32,
   "metadata": {},
   "outputs": [
    {
     "data": {
      "text/plain": [
       "Text(0.5,1,u'Train_data')"
      ]
     },
     "execution_count": 32,
     "metadata": {},
     "output_type": "execute_result"
    }
   ],
   "source": [
    "# generate input data \n",
    "\n",
    "def generate_data(w, b, num_sample = 100, noise_sigma = 0.05):\n",
    "    noise = np.random.randn(num_sample) * noise_sigma\n",
    "    x = np.linspace(0, 1, num_sample)\n",
    "    np.random.shuffle(x)\n",
    "    y = w * (x + noise) + b\n",
    "    \n",
    "    return x, y\n",
    "\n",
    "train_x , train_y = generate_data(w = -1, b = 0)\n",
    "test_x = np.linspace(0,1,100)\n",
    "np.random.shuffle(test_x)\n",
    "plt.scatter(train_x, train_y)\n",
    "plt.title('Train_data')\n",
    "#plt.show()"
   ]
  },
  {
   "cell_type": "code",
   "execution_count": 33,
   "metadata": {},
   "outputs": [],
   "source": [
    "llapi_logdir = '/notebooks/tflab/logs/llapi'\n",
    "# initialize graph\n",
    "graph = tf.Graph()\n",
    "\n",
    "with graph.as_default():\n",
    "    # define the input layer(scope)\n",
    "    with tf.name_scope('input'):\n",
    "        input_data = tf.placeholder(tf.float32, shape=(None, 1), name='input_data')\n",
    "        \n",
    "    # define the logistic function\n",
    "    with tf.name_scope('model'):\n",
    "        W = tf.Variable(tf.truncated_normal([1,1],stddev=0.1), name='W')\n",
    "        b = tf.Variable(tf.constant(0.1, shape=[1]), name='b')\n",
    "        output_data = tf.add(input_data * W, b, name='output_data')\n",
    "        \n",
    "    # define loss , use Gradient Descent as optimizer\n",
    "    with tf.name_scope('train'):\n",
    "        target_op = tf.placeholder(tf.float32, shape=(None, 1), name='target_op')\n",
    "        loss = tf.reduce_mean(tf.reduce_sum((output_data * tf.log(target_op)),reduction_indices=1))\n",
    "        optimizer = tf.train.GradientDescentOptimizer(learning_rate).minimize(loss, name = 'optimizer')\n",
    "        \n",
    "    # logs for TensorBoard\n",
    "    tf.summary.scalar('loss', loss)\n",
    "    summary_op = tf.summary.merge_all()\n",
    "        \n",
    "        "
   ]
  },
  {
   "cell_type": "code",
   "execution_count": 34,
   "metadata": {},
   "outputs": [],
   "source": [
    "# init train\n",
    "session = tf.InteractiveSession(graph=graph)\n",
    "session.run(tf.global_variables_initializer())\n",
    "\n",
    "# start train\n",
    "event_writer = tf.summary.FileWriter(llapi_logdir, sess.graph)\n",
    "\n",
    "for step in range(steps):\n",
    "    summary, _ = session.run([summary_op, optimizer],\n",
    "                            feed_dict = {\n",
    "                                input_data: train_x.reshape(-1,1),\n",
    "                                target_op: train_y.reshape(-1,1)\n",
    "                            })\n",
    "    # add logs\n",
    "    event_writer.add_summary(summary, step)\n",
    "event_writer.close()\n",
    "\n",
    "                         "
   ]
  },
  {
   "cell_type": "code",
   "execution_count": 35,
   "metadata": {},
   "outputs": [
    {
     "data": {
      "image/png": "[encoded data removed]",
      "text/plain": [
       "<matplotlib.figure.Figure at 0x7f6e54057090>"
      ]
     },
     "metadata": {},
     "output_type": "display_data"
    }
   ],
   "source": [
    "# inferance\n",
    "y_test_llapi = session.run(output_data,\n",
    "                          feed_dict = {input_data: test_x.reshape(-1, 1)})\n",
    "\n",
    "plt.scatter(train_x, train_y)\n",
    "plt.scatter(test_x, y_test_llapi)\n",
    "plt.title('logistic regression')\n",
    "plt.show()\n"
   ]
  },
  {
   "cell_type": "code",
   "execution_count": null,
   "metadata": {},
   "outputs": [],
   "source": []
  }
 ],
 "metadata": {
  "kernelspec": {
   "display_name": "Python 2",
   "language": "python",
   "name": "python2"
  },
  "language_info": {
   "codemirror_mode": {
    "name": "ipython",
    "version": 2
   },
   "file_extension": ".py",
   "mimetype": "text/x-python",
   "name": "python",
   "nbconvert_exporter": "python",
   "pygments_lexer": "ipython2",
   "version": "2.7.12"
  }
 },
 "nbformat": 4,
 "nbformat_minor": 2
}
