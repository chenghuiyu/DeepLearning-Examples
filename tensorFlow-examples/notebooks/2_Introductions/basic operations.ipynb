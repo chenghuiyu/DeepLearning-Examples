{
 "cells": [
  {
   "cell_type": "markdown",
   "metadata": {},
   "source": [
    "# 1、Basic operations \n",
    "## using tensorflow to implement basic operations"
   ]
  },
  {
   "cell_type": "code",
   "execution_count": 1,
   "metadata": {},
   "outputs": [],
   "source": [
    "import tensorflow as tf"
   ]
  },
  {
   "cell_type": "code",
   "execution_count": 2,
   "metadata": {},
   "outputs": [],
   "source": [
    "# basic operation about constants\n",
    "# define two constants which x = 10, y = 20\n",
    "x = tf.constant(10)   \n",
    "y = tf.constant(20)"
   ]
  },
  {
   "cell_type": "code",
   "execution_count": 5,
   "metadata": {},
   "outputs": [
    {
     "name": "stdout",
     "output_type": "stream",
     "text": [
      "x = 10 y = 20\n",
      "Addition with constants is 30 \n"
     ]
    }
   ],
   "source": [
    "with tf.Session() as sess:\n",
    "    print \"x = %i\" % sess.run(x), \"y = %i\" % sess.run(y)\n",
    "    print (\"Addition with constants is %i \" %sess.run(x + y))"
   ]
  },
  {
   "cell_type": "code",
   "execution_count": 9,
   "metadata": {},
   "outputs": [],
   "source": [
    "# basic operation about variable as graph input\n",
    "x = tf.placeholder(tf.int32)\n",
    "y = tf.placeholder(tf.int32)\n",
    "# define some operations\n",
    "add = tf.add(x, y)\n",
    "multipy = tf.multiply(x, y)"
   ]
  },
  {
   "cell_type": "code",
   "execution_count": 13,
   "metadata": {},
   "outputs": [
    {
     "name": "stdout",
     "output_type": "stream",
     "text": [
      "The result of addition with variables is 50 \n",
      "The result of multipy with variables is 200 \n"
     ]
    }
   ],
   "source": [
    "# run session to compute output\n",
    "with tf.Session() as sess:\n",
    "    add_results = sess.run(add, feed_dict={x:20, y:30})\n",
    "    multipy_results = sess.run(multipy, feed_dict={x:10, y:20})\n",
    "    print \"The result of addition with variables is %i \" % add_results\n",
    "    print \"The result of multipy with variables is %i \" % multipy_results"
   ]
  },
  {
   "cell_type": "markdown",
   "metadata": {},
   "source": [
    "## using a simple task to conclude above introduction"
   ]
  },
  {
   "cell_type": "code",
   "execution_count": 14,
   "metadata": {},
   "outputs": [],
   "source": [
    "import numpy as np"
   ]
  },
  {
   "cell_type": "code",
   "execution_count": 17,
   "metadata": {},
   "outputs": [],
   "source": [
    "graph = tf.Graph()\n",
    "with graph.as_default():\n",
    "    i = tf.placeholder(tf.float32, \n",
    "                       shape = (None, 1),\n",
    "                       name=\"i\")\n",
    "    a = tf.Variable(tf.constant(20.0, shape = [1], name = \"a\"))\n",
    "    b = tf.Variable(tf.constant(30.0, shape = [1]), name = \"b\")\n",
    "    n1 = tf.add(i, a, name=\"n1\")\n",
    "    n2 = tf.add(i, b, name=\"n2\")\n",
    "    n3 = tf.add(n1, n2 , name=\"n3\")\n",
    "    "
   ]
  },
  {
   "cell_type": "code",
   "execution_count": 18,
   "metadata": {},
   "outputs": [
    {
     "name": "stdout",
     "output_type": "stream",
     "text": [
      "[[ 54.]]\n"
     ]
    }
   ],
   "source": [
    "with tf.Session(graph=graph) as sess:\n",
    "    sess.run(tf.global_variables_initializer())\n",
    "    input_data = np.array([2]).reshape(-1, 1)\n",
    "    output_data = sess.run(n3, feed_dict={i: input_data})\n",
    "    print output_data"
   ]
  },
  {
   "cell_type": "code",
   "execution_count": null,
   "metadata": {},
   "outputs": [],
   "source": []
  }
 ],
 "metadata": {
  "kernelspec": {
   "display_name": "Python 2",
   "language": "python",
   "name": "python2"
  },
  "language_info": {
   "codemirror_mode": {
    "name": "ipython",
    "version": 2
   },
   "file_extension": ".py",
   "mimetype": "text/x-python",
   "name": "python",
   "nbconvert_exporter": "python",
   "pygments_lexer": "ipython2",
   "version": "2.7.12"
  }
 },
 "nbformat": 4,
 "nbformat_minor": 2
}
