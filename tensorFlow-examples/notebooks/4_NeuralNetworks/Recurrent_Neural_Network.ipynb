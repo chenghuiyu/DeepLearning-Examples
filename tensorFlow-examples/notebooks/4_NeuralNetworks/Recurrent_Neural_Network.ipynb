{
 "cells": [
  {
   "cell_type": "markdown",
   "metadata": {},
   "source": [
    "# RNN framework\n",
    "\n",
    "<img src=\"http://colah.github.io/posts/2015-08-Understanding-LSTMs/img/RNN-unrolled.png\" alt=\"nn\" style=\"width: 600px;\"/>\n",
    "\n",
    "References:\n",
    "- [Long Short Term Memory](http://deeplearning.cs.cmu.edu/pdfs/Hochreiter97_lstm.pdf), Sepp Hochreiter & Jurgen Schmidhuber, Neural Computation 9(8): 1735-1780, 1997."
   ]
  },
  {
   "cell_type": "code",
   "execution_count": 1,
   "metadata": {},
   "outputs": [],
   "source": [
    "from __future__ import division, print_function\n",
    "import tensorflow as tf\n",
    "from tensorflow.contrib import rnn\n"
   ]
  },
  {
   "cell_type": "code",
   "execution_count": 2,
   "metadata": {},
   "outputs": [
    {
     "name": "stdout",
     "output_type": "stream",
     "text": [
      "Extracting /tmp/data/train-images-idx3-ubyte.gz\n",
      "Extracting /tmp/data/train-labels-idx1-ubyte.gz\n",
      "Extracting /tmp/data/t10k-images-idx3-ubyte.gz\n",
      "Extracting /tmp/data/t10k-labels-idx1-ubyte.gz\n",
      "Done......!\n"
     ]
    }
   ],
   "source": [
    "# Import MNIST data\n",
    "from tensorflow.examples.tutorials.mnist import input_data\n",
    "mnist = input_data.read_data_sets(\"/tmp/data/\", one_hot=True)\n",
    "print (\"Done......!\")"
   ]
  },
  {
   "cell_type": "code",
   "execution_count": 3,
   "metadata": {
    "collapsed": true
   },
   "outputs": [],
   "source": [
    "# Training Parameters\n",
    "learning_rate = 0.001\n",
    "training_steps = 10000\n",
    "batch_size = 128\n",
    "display_step = 200\n",
    "\n",
    "# Network parameters\n",
    "num_inputs = 28 # MNIST data input(image : 28 * 28)\n",
    "time_steps = 28\n",
    "num_hidden = 128 # hidden layer num of features\n",
    "num_classes = 10"
   ]
  },
  {
   "cell_type": "code",
   "execution_count": 4,
   "metadata": {
    "collapsed": true
   },
   "outputs": [],
   "source": [
    "# define tf Graph()\n",
    "X = tf.placeholder(tf.float32, shape=[None, time_steps, num_inputs])\n",
    "Y = tf.placeholder(tf.float32, shape=[None, num_classes])"
   ]
  },
  {
   "cell_type": "code",
   "execution_count": 5,
   "metadata": {
    "collapsed": true
   },
   "outputs": [],
   "source": [
    "# Define weights\n",
    "weights = {\n",
    "    'out': tf.Variable(tf.random_normal([num_hidden, num_classes]))\n",
    "}\n",
    "biases = {\n",
    "    'out': tf.Variable(tf.random_normal([num_classes]))\n",
    "}"
   ]
  },
  {
   "cell_type": "code",
   "execution_count": 6,
   "metadata": {
    "collapsed": true
   },
   "outputs": [],
   "source": [
    "def RNN(x, weights, biases):\n",
    "    # Prepare data shape to match `rnn` function requirements\n",
    "    # Current data input shape: (batch_size, timesteps, n_input)\n",
    "    # Required shape: 'timesteps' tensors list of shape (batch_size, n_input)\n",
    "\n",
    "    # Unstack to get a list of 'timesteps' tensors of shape (batch_size, n_input)\n",
    "    x = tf.unstack(x, time_steps, 1)\n",
    "    \n",
    "    # Define a lstm cell with tensorflow\n",
    "    lstm_cell = rnn.BasicLSTMCell(num_hidden, forget_bias=1.0)\n",
    "    \n",
    "    # Get lstm cell output\n",
    "    outputs, states = rnn.static_rnn(lstm_cell, x, dtype=tf.float32)\n",
    "    \n",
    "    # Linear activation, using rnn inner loop last output\n",
    "    return tf.matmul(outputs[-1], weights['out']) + biases['out']"
   ]
  },
  {
   "cell_type": "code",
   "execution_count": 7,
   "metadata": {},
   "outputs": [],
   "source": [
    "logits = RNN(X, weights,biases)\n",
    "prediction = tf.nn.softmax(logits)\n",
    "\n",
    "# Define loss and optimizer\n",
    "loss_op = tf.reduce_mean(tf.nn.softmax_cross_entropy_with_logits(logits=logits, labels=Y))\n",
    "optimizer = tf.train.AdamOptimizer(learning_rate=learning_rate)\n",
    "train_op = optimizer.minimize(loss_op)\n",
    "\n",
    "# Evaluate model (with test logits, for dropout to be disabled)\n",
    "correct_op = tf.equal(tf.argmax(prediction, 1), tf.argmax(Y, 1))\n",
    "accuracy = tf.reduce_mean(tf.cast(correct_op, tf.float32))\n",
    "\n",
    "# Initial the model\n",
    "\n",
    "init = tf.global_variables_initializer()\n"
   ]
  },
  {
   "cell_type": "code",
   "execution_count": 8,
   "metadata": {},
   "outputs": [
    {
     "name": "stdout",
     "output_type": "stream",
     "text": [
      "Step 1, Minibatch Loss = 2.2893, Training Accuracy = 0.234\n",
      "Step 200, Minibatch Loss = 0.2029, Training Accuracy = 0.914\n",
      "Step 400, Minibatch Loss = 0.2037, Training Accuracy = 0.953\n",
      "Step 600, Minibatch Loss = 0.1705, Training Accuracy = 0.945\n",
      "Step 800, Minibatch Loss = 0.0432, Training Accuracy = 0.992\n",
      "Step 1000, Minibatch Loss = 0.0714, Training Accuracy = 0.984\n",
      "Step 1200, Minibatch Loss = 0.1269, Training Accuracy = 0.961\n",
      "Step 1400, Minibatch Loss = 0.0403, Training Accuracy = 0.984\n",
      "Step 1600, Minibatch Loss = 0.0752, Training Accuracy = 0.977\n",
      "Step 1800, Minibatch Loss = 0.0535, Training Accuracy = 0.969\n",
      "Step 2000, Minibatch Loss = 0.0793, Training Accuracy = 0.961\n",
      "Step 2200, Minibatch Loss = 0.0365, Training Accuracy = 0.977\n",
      "Step 2400, Minibatch Loss = 0.0695, Training Accuracy = 0.977\n",
      "Step 2600, Minibatch Loss = 0.0100, Training Accuracy = 1.000\n",
      "Step 2800, Minibatch Loss = 0.0245, Training Accuracy = 0.992\n",
      "Step 3000, Minibatch Loss = 0.0273, Training Accuracy = 0.992\n",
      "Step 3200, Minibatch Loss = 0.0172, Training Accuracy = 0.992\n",
      "Step 3400, Minibatch Loss = 0.0026, Training Accuracy = 1.000\n",
      "Step 3600, Minibatch Loss = 0.0200, Training Accuracy = 0.992\n",
      "Step 3800, Minibatch Loss = 0.0497, Training Accuracy = 0.984\n",
      "Step 4000, Minibatch Loss = 0.0033, Training Accuracy = 1.000\n",
      "Step 4200, Minibatch Loss = 0.0024, Training Accuracy = 1.000\n",
      "Step 4400, Minibatch Loss = 0.0061, Training Accuracy = 1.000\n",
      "Step 4600, Minibatch Loss = 0.0158, Training Accuracy = 1.000\n",
      "Step 4800, Minibatch Loss = 0.0013, Training Accuracy = 1.000\n",
      "Step 5000, Minibatch Loss = 0.0070, Training Accuracy = 0.992\n",
      "Step 5200, Minibatch Loss = 0.0053, Training Accuracy = 1.000\n",
      "Step 5400, Minibatch Loss = 0.0487, Training Accuracy = 0.984\n",
      "Step 5600, Minibatch Loss = 0.0366, Training Accuracy = 0.984\n",
      "Step 5800, Minibatch Loss = 0.0070, Training Accuracy = 1.000\n",
      "Step 6000, Minibatch Loss = 0.0030, Training Accuracy = 1.000\n",
      "Step 6200, Minibatch Loss = 0.0057, Training Accuracy = 1.000\n",
      "Step 6400, Minibatch Loss = 0.0038, Training Accuracy = 1.000\n",
      "Step 6600, Minibatch Loss = 0.0224, Training Accuracy = 0.992\n",
      "Step 6800, Minibatch Loss = 0.0331, Training Accuracy = 0.992\n",
      "Step 7000, Minibatch Loss = 0.0004, Training Accuracy = 1.000\n",
      "Step 7200, Minibatch Loss = 0.0017, Training Accuracy = 1.000\n",
      "Step 7400, Minibatch Loss = 0.0028, Training Accuracy = 1.000\n",
      "Step 7600, Minibatch Loss = 0.0020, Training Accuracy = 1.000\n",
      "Step 7800, Minibatch Loss = 0.0107, Training Accuracy = 1.000\n",
      "Step 8000, Minibatch Loss = 0.0056, Training Accuracy = 1.000\n",
      "Step 8200, Minibatch Loss = 0.0082, Training Accuracy = 1.000\n",
      "Step 8400, Minibatch Loss = 0.0509, Training Accuracy = 0.984\n",
      "Step 8600, Minibatch Loss = 0.0141, Training Accuracy = 0.992\n",
      "Step 8800, Minibatch Loss = 0.0005, Training Accuracy = 1.000\n",
      "Step 9000, Minibatch Loss = 0.0019, Training Accuracy = 1.000\n",
      "Step 9200, Minibatch Loss = 0.0037, Training Accuracy = 1.000\n",
      "Step 9400, Minibatch Loss = 0.0020, Training Accuracy = 1.000\n",
      "Step 9600, Minibatch Loss = 0.0125, Training Accuracy = 0.992\n",
      "Step 9800, Minibatch Loss = 0.0005, Training Accuracy = 1.000\n",
      "Step 10000, Minibatch Loss = 0.0006, Training Accuracy = 1.000\n",
      "Optimization finished !\n",
      "Test accuracy:  1.0\n"
     ]
    }
   ],
   "source": [
    "# start training\n",
    "with tf.Session() as sess:\n",
    "    sess.run(init)\n",
    "    \n",
    "    for step in range(1, training_steps + 1):\n",
    "        batch_x, batch_y = mnist.train.next_batch(batch_size)\n",
    "        \n",
    "        # reshape data to get 28 seq of 28 elements\n",
    "        batch_x = batch_x.reshape([batch_size, time_steps, num_inputs])\n",
    "        # Run training function\n",
    "        sess.run(train_op, feed_dict = {X:batch_x, Y:batch_y})\n",
    "        if step % display_step == 0 or step == 1:\n",
    "            loss, acc = sess.run([loss_op, accuracy], feed_dict={X:batch_x, Y:batch_y})\n",
    "            \n",
    "            print(\"Step \" + str(step) + \", Minibatch Loss = \"\\\n",
    "                 \"{:.4f}\".format(loss) + \", Training Accuracy = \" + \\\n",
    "                  \"{:.3f}\".format(acc))\n",
    "                  \n",
    "    print(\"Optimization finished !\")\n",
    "                  \n",
    "    # Calculate accuracy for 128 mnist test images\n",
    "    test_len = 128\n",
    "    test_data = mnist.test.images[:test_len].reshape([-1, time_steps, num_inputs])\n",
    "    test_labels = mnist.test.labels[:test_len]\n",
    "    print(\"Test accuracy: \", \\\n",
    "         sess.run(accuracy, feed_dict={X: test_data, Y: test_labels}))"
   ]
  }
 ],
 "metadata": {
  "kernelspec": {
   "display_name": "Python 2",
   "language": "python",
   "name": "python2"
  },
  "language_info": {
   "codemirror_mode": {
    "name": "ipython",
    "version": 2
   },
   "file_extension": ".py",
   "mimetype": "text/x-python",
   "name": "python",
   "nbconvert_exporter": "python",
   "pygments_lexer": "ipython2",
   "version": "2.7.14"
  }
 },
 "nbformat": 4,
 "nbformat_minor": 2
}
