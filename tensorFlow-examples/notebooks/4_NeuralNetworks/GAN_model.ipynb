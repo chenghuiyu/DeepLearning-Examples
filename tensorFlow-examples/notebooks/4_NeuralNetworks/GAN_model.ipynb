{
 "cells": [
  {
   "cell_type": "markdown",
   "metadata": {},
   "source": [
    "# Generative Adversarial Network Model\n",
    "\n",
    "[Paper](https://arxiv.org/abs/1406.2661)"
   ]
  },
  {
   "cell_type": "code",
   "execution_count": 38,
   "metadata": {
    "collapsed": true
   },
   "outputs": [],
   "source": [
    "from __future__ import division, print_function, absolute_import\n",
    "\n",
    "import matplotlib.pyplot as plt\n",
    "import numpy as np\n",
    "import tensorflow as tf"
   ]
  },
  {
   "cell_type": "code",
   "execution_count": 39,
   "metadata": {},
   "outputs": [
    {
     "name": "stdout",
     "output_type": "stream",
     "text": [
      "Extracting /tmp/data/train-images-idx3-ubyte.gz\n",
      "Extracting /tmp/data/train-labels-idx1-ubyte.gz\n",
      "Extracting /tmp/data/t10k-images-idx3-ubyte.gz\n",
      "Extracting /tmp/data/t10k-labels-idx1-ubyte.gz\n",
      "Done......!\n"
     ]
    }
   ],
   "source": [
    "# Import MNIST data\n",
    "from tensorflow.examples.tutorials.mnist import input_data\n",
    "mnist = input_data.read_data_sets(\"/tmp/data/\", one_hot=True)\n",
    "print (\"Done......!\")"
   ]
  },
  {
   "cell_type": "code",
   "execution_count": 40,
   "metadata": {
    "collapsed": true
   },
   "outputs": [],
   "source": [
    "# Initialization Parameters\n",
    "# hyper Params\n",
    "num_steps = 70000\n",
    "batch_size = 128\n",
    "learning_rate = 0.0002\n",
    "\n",
    "# Network Params\n",
    "image_dim = 784 # 28*28 pixels\n",
    "gen_hidden_dim = 256\n",
    "disc_hidden_dim = 256\n",
    "noise_dim = 100 # noise data points\n"
   ]
  },
  {
   "cell_type": "code",
   "execution_count": 41,
   "metadata": {
    "collapsed": true
   },
   "outputs": [],
   "source": [
    "# A custom initialization\n",
    "def glorot_init(shape):\n",
    "    return tf.random_normal(shape = shape, stddev = 1. /  tf.sqrt(shape[0]/ 2.))"
   ]
  },
  {
   "cell_type": "code",
   "execution_count": 42,
   "metadata": {
    "collapsed": true
   },
   "outputs": [],
   "source": [
    "# Store layers weights and bias\n",
    "weights = {\n",
    "    'gen_hidden1': tf.Variable(glorot_init([noise_dim, gen_hidden_dim])),\n",
    "    'gen_out': tf.Variable(glorot_init([gen_hidden_dim, image_dim])),\n",
    "    'disc_hidden1': tf.Variable(glorot_init([image_dim, disc_hidden_dim])),\n",
    "    'disc_out': tf.Variable(glorot_init([disc_hidden_dim, 1])),\n",
    "}\n",
    "\n",
    "bias = {\n",
    "    'gen_hidden1': tf.Variable(tf.zeros([gen_hidden_dim])),\n",
    "    'gen_out': tf.Variable(tf.zeros([image_dim])),\n",
    "    'disc_hidden1': tf.Variable(tf.zeros([disc_hidden_dim])),\n",
    "    'disc_out': tf.Variable(tf.zeros([1])),\n",
    "}"
   ]
  },
  {
   "cell_type": "code",
   "execution_count": 43,
   "metadata": {
    "collapsed": true
   },
   "outputs": [],
   "source": [
    "# Generator, only use one hidden layer\n",
    "def generator(input_x_g):\n",
    "    hidden_layer = tf.matmul(input_x_g, weights['gen_hidden1'])\n",
    "    hidden_layer = tf.add(hidden_layer, bias['gen_hidden1'])\n",
    "    hidden_layer = tf.nn.relu(hidden_layer)\n",
    "    \n",
    "    output_layer = tf.matmul(hidden_layer, weights['gen_out'])\n",
    "    output_layer = tf.add(output_layer, bias['gen_out'])\n",
    "    output_layer = tf.nn.sigmoid(output_layer)\n",
    "    \n",
    "    return output_layer\n",
    "\n",
    "\n",
    "# Discriminator\n",
    "def discriminator(input_x_d):\n",
    "    hidden_layer = tf.matmul(input_x_d, weights['disc_hidden1'])\n",
    "    hidden_layer = tf.add(hidden_layer, bias['disc_hidden1'])\n",
    "    hidden_layer = tf.nn.relu(hidden_layer)\n",
    "    \n",
    "    output_layer = tf.matmul(hidden_layer, weights['disc_out'])\n",
    "    output_layer = tf.add(output_layer, bias['disc_out'])\n",
    "    output_layer = tf.nn.sigmoid(output_layer)\n",
    "    \n",
    "    return output_layer\n"
   ]
  },
  {
   "cell_type": "markdown",
   "metadata": {},
   "source": [
    " ## Training Neural Network\n"
   ]
  },
  {
   "cell_type": "code",
   "execution_count": 44,
   "metadata": {},
   "outputs": [],
   "source": [
    "# Network inputs\n",
    "gen_input = tf.placeholder(tf.float32, shape = [None, noise_dim], name = 'noise_input')\n",
    "disc_input = tf.placeholder(tf.float32, shape = [None, image_dim], name = 'disc_input')\n",
    "\n",
    "# Build Generator Network\n",
    "gen_sample = generator(gen_input)\n",
    "\n",
    "# Build two Discriminater Networks (one from noise inputs , one from generator samples)\n",
    "disc_real = discriminator(disc_input)\n",
    "disc_fake = discriminator(gen_sample)\n",
    "\n",
    "# Build Loss functions\n",
    "gen_loss = - tf.reduce_mean(tf.log(disc_fake))\n",
    "disc_loss = -tf.reduce_mean(tf.log(disc_real) + tf.log(1. - disc_fake))\n",
    "\n",
    "# Build Optimizers\n",
    "gen_optimizer = tf.train.AdamOptimizer(learning_rate = learning_rate)\n",
    "disc_optimizer = tf.train.AdamOptimizer(learning_rate = learning_rate)\n",
    "\n",
    "# Training Variable for each optimizers\n",
    "gen_vars = [weights['gen_hidden1'], weights['gen_out'],\n",
    "            bias['gen_hidden1'], bias['gen_out']]\n",
    "\n",
    "disc_vars = [weights['disc_hidden1'], weights['disc_out'],\n",
    "             bias['disc_hidden1'], bias['disc_out']]\n",
    "\n",
    "# Create training operations\n",
    "train_gen = gen_optimizer.minimize(loss = gen_loss, var_list = gen_vars)\n",
    "train_disc = disc_optimizer.minimize(loss = disc_loss, var_list = disc_vars)\n",
    "\n",
    "# Initilalize the variable\n",
    "init = tf.global_variables_initializer()"
   ]
  },
  {
   "cell_type": "markdown",
   "metadata": {},
   "source": [
    "# Start train the GAN using tensorflow session"
   ]
  },
  {
   "cell_type": "code",
   "execution_count": 45,
   "metadata": {},
   "outputs": [
    {
     "name": "stdout",
     "output_type": "stream",
     "text": [
      "Step 1 : Generator Loss: 0.594956, Discriminator Loss: 1.457956\n",
      "Step 2000 : Generator Loss: 4.409376, Discriminator Loss: 0.055016\n",
      "Step 4000 : Generator Loss: 3.751481, Discriminator Loss: 0.113306\n",
      "Step 6000 : Generator Loss: 3.323075, Discriminator Loss: 0.224488\n",
      "Step 8000 : Generator Loss: 4.111264, Discriminator Loss: 0.171802\n",
      "Step 10000 : Generator Loss: 3.441031, Discriminator Loss: 0.165900\n",
      "Step 12000 : Generator Loss: 3.010540, Discriminator Loss: 0.243625\n",
      "Step 14000 : Generator Loss: 3.285085, Discriminator Loss: 0.386427\n",
      "Step 16000 : Generator Loss: 3.193564, Discriminator Loss: 0.374900\n",
      "Step 18000 : Generator Loss: 3.633550, Discriminator Loss: 0.323033\n",
      "Step 20000 : Generator Loss: 3.736483, Discriminator Loss: 0.233892\n",
      "Step 22000 : Generator Loss: 3.362568, Discriminator Loss: 0.292289\n",
      "Step 24000 : Generator Loss: 4.248236, Discriminator Loss: 0.254472\n",
      "Step 26000 : Generator Loss: 3.735533, Discriminator Loss: 0.390124\n",
      "Step 28000 : Generator Loss: 3.067001, Discriminator Loss: 0.511781\n",
      "Step 30000 : Generator Loss: 2.862671, Discriminator Loss: 0.449775\n",
      "Step 32000 : Generator Loss: 2.967718, Discriminator Loss: 0.398254\n",
      "Step 34000 : Generator Loss: 2.850498, Discriminator Loss: 0.500878\n",
      "Step 36000 : Generator Loss: 2.801179, Discriminator Loss: 0.436652\n",
      "Step 38000 : Generator Loss: 3.198438, Discriminator Loss: 0.502571\n",
      "Step 40000 : Generator Loss: 2.409583, Discriminator Loss: 0.429004\n",
      "Step 42000 : Generator Loss: 2.664375, Discriminator Loss: 0.472384\n",
      "Step 44000 : Generator Loss: 2.722691, Discriminator Loss: 0.501965\n",
      "Step 46000 : Generator Loss: 2.887529, Discriminator Loss: 0.475689\n",
      "Step 48000 : Generator Loss: 2.427067, Discriminator Loss: 0.593824\n",
      "Step 50000 : Generator Loss: 2.731338, Discriminator Loss: 0.415276\n",
      "Step 52000 : Generator Loss: 3.148877, Discriminator Loss: 0.464221\n",
      "Step 54000 : Generator Loss: 2.611875, Discriminator Loss: 0.480950\n",
      "Step 56000 : Generator Loss: 2.448830, Discriminator Loss: 0.557699\n",
      "Step 58000 : Generator Loss: 2.766382, Discriminator Loss: 0.419448\n",
      "Step 60000 : Generator Loss: 2.652709, Discriminator Loss: 0.407050\n",
      "Step 62000 : Generator Loss: 2.886611, Discriminator Loss: 0.439096\n",
      "Step 64000 : Generator Loss: 2.676260, Discriminator Loss: 0.613047\n",
      "Step 66000 : Generator Loss: 2.716156, Discriminator Loss: 0.360957\n",
      "Step 68000 : Generator Loss: 3.137309, Discriminator Loss: 0.395959\n",
      "Step 70000 : Generator Loss: 2.642690, Discriminator Loss: 0.427850\n"
     ]
    }
   ],
   "source": [
    "# define a session\n",
    "sess = tf.Session()\n",
    "\n",
    "# Run the initializer\n",
    "sess.run(init)\n",
    "\n",
    "# Start training\n",
    "for i in range(1, num_steps + 1):\n",
    "    # Prepare the data \n",
    "    # Get the next minibatch of MNIST data (only images are needed, not labels)\n",
    "    batch_x, _ = mnist.train.next_batch(batch_size = batch_size)\n",
    "    \n",
    "    # generate the noise to feed to the generator\n",
    "    noise_data = np.random.uniform(-1. , 1., size = [batch_size, noise_dim])\n",
    "    \n",
    "    # feed data to train\n",
    "    feed_dict = {disc_input: batch_x, gen_input: noise_data}\n",
    "    _, _, gl, dl = sess.run([train_gen, train_disc, gen_loss, disc_loss], \n",
    "                            feed_dict = feed_dict)\n",
    "    \n",
    "    if i % 2000 == 0 or i == 1:\n",
    "        print ('Step %i : Generator Loss: %f, Discriminator Loss: %f' % (i, gl, dl))"
   ]
  },
  {
   "cell_type": "markdown",
   "metadata": {},
   "source": [
    "# Test the results"
   ]
  },
  {
   "cell_type": "code",
   "execution_count": 46,
   "metadata": {},
   "outputs": [
    {
     "data": {
      "image/png": "[encoded data removed]",
      "text/plain": [
       "<matplotlib.figure.Figure at 0x7fbb3337a650>"
      ]
     },
     "metadata": {},
     "output_type": "display_data"
    }
   ],
   "source": [
    "# Generate the image from noise, using the GAN network\n",
    "n = 6\n",
    "canvas = np.empty((28 * n, 28 * n))\n",
    "for i in range(n):\n",
    "    # noise input \n",
    "    noise_input = np.random.uniform(-1., 1., size = [n, noise_dim])\n",
    "    \n",
    "    # Generate image from noise\n",
    "    gen_out = sess.run(gen_sample, feed_dict = {gen_input: noise_input})\n",
    "    # Reserve the colours for better display\n",
    "    gen_out = -1 * (gen_out - 1)\n",
    "    for j in range(n):\n",
    "        # display the image generated from GAN\n",
    "        canvas[i * 28:(i + 1) * 28, j * 28:(j + 1) * 28] = gen_out[j].reshape([28, 28])\n",
    "        \n",
    "plt.figure(figsize=(n,n))\n",
    "plt.imshow(canvas, origin=\"upper\", cmap=\"gray\")\n",
    "plt.show()"
   ]
  },
  {
   "cell_type": "code",
   "execution_count": null,
   "metadata": {
    "collapsed": true
   },
   "outputs": [],
   "source": []
  }
 ],
 "metadata": {
  "kernelspec": {
   "display_name": "Python 2",
   "language": "python",
   "name": "python2"
  },
  "language_info": {
   "codemirror_mode": {
    "name": "ipython",
    "version": 2
   },
   "file_extension": ".py",
   "mimetype": "text/x-python",
   "name": "python",
   "nbconvert_exporter": "python",
   "pygments_lexer": "ipython2",
   "version": "2.7.14"
  }
 },
 "nbformat": 4,
 "nbformat_minor": 2
}
