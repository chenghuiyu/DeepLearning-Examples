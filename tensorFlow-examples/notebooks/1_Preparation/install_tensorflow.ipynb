{
 "cells": [
  {
   "cell_type": "markdown",
   "metadata": {},
   "source": [
    "\n",
    "# Install TensorFlow using docker\n",
    "\n",
    "### **install docker**\n",
    "\n",
    "install docker in doc[https://docs.docker.com]\n",
    "\n",
    "### **get tensorflow image**\n",
    "\n",
    "```\n",
    "docker pull tensorflow/tensorflow:1.4.0-rc0\n",
    "```\n",
    "\n",
    "\n",
    "\n",
    "### **run TensorFlow image**\n",
    "```\n",
    "docker run --name tflab  -p 8888:8888 -p 6006:6006  -v ~/tflab:/notebooks/tflab  -d tensorflow/tensorflow:1.4.0-rc0\n",
    " --name: the docker image's name\n",
    " -p: port\n",
    " -v: path\n",
    " -d : image\n",
    "```\n",
    "\n",
    "```\n",
    "docker logs tflab\n",
    "```\n",
    "\n",
    "you can use url http://localhost:8888 to use tensorflow\n",
    "\n",
    "### **use TensorBoard**\n",
    "\n",
    "```\n",
    "docker exec -it tflab bash #attach image\n",
    "\n",
    "tensorboard --logdir=/notebooks/tflab/logs # run TensorBoard\n",
    "```\n",
    "\n",
    "you can use url http://localhost:6006/ to use TensorBoard"
   ]
  },
  {
   "cell_type": "code",
   "execution_count": null,
   "metadata": {},
   "outputs": [],
   "source": []
  }
 ],
 "metadata": {
  "kernelspec": {
   "display_name": "Python 2",
   "language": "python",
   "name": "python2"
  },
  "language_info": {
   "codemirror_mode": {
    "name": "ipython",
    "version": 2
   },
   "file_extension": ".py",
   "mimetype": "text/x-python",
   "name": "python",
   "nbconvert_exporter": "python",
   "pygments_lexer": "ipython2",
   "version": "2.7.12"
  }
 },
 "nbformat": 4,
 "nbformat_minor": 2
}
